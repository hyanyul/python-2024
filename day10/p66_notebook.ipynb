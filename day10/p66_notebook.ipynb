{
 "cells": [
  {
   "cell_type": "markdown",
   "metadata": {},
   "source": [
    "## 주피터 노트북 시작\n",
    "- 주피터 노트북 사용법 학습\n",
    "    1. VS Code > Ctrl + Shift + P(명령 팔레트) > Create: 새 Jupyter Notebook 선택\n",
    "    2. 반드시 최초 저장\n",
    "    3. 마크다운 셀, 코드 셀 확인\n",
    "    4. 주피터 노트북을 새로 열면 __모두 실행__을 눌러서 전체 코드 셀을 다 실행할 것"
   ]
  },
  {
   "cell_type": "code",
   "execution_count": 8,
   "metadata": {},
   "outputs": [
    {
     "name": "stdout",
     "output_type": "stream",
     "text": [
      "Hello, Jupyter Notebook!\n"
     ]
    }
   ],
   "source": [
    "print('Hello, Jupyter Notebook!')"
   ]
  },
  {
   "cell_type": "markdown",
   "metadata": {},
   "source": [
    "### 주피터 노트북 단축키\n",
    "- 필수 단축키\n",
    "    - Ctrl + Enter(셀 내부): 마크다운 셀-닫기, 코드 셀-실행\n",
    "    - Shift + Enter(셀 내부): Ctrl + Enter 기능 + 현재와 같은 셀 추가(단, 마지막 셀에서만 동작)\n",
    "    - a(셀 외부): 현재 셀 위에 코드 셀 추가\n",
    "    - b(셀 외부): 현재 셀 밑에 코드 셀 추가\n",
    "    - Shift + L(셀 외부): 라인넘버 토글\n",
    "    - Ctrl + /(셀 내부): 주석 토글  <!--마크다운 주석 토글-->\n",
    "- 옵션 단축키\n",
    "    - m(셀 외부): 코드 셀을 마크다운 셀로 변경\n",
    "    - y(셀 외부): 마크다운 셀을 코드 셀로 변경\n",
    "\n",
    "### 디버깅\n",
    "- 디버깅 방법: .py와 동일\n",
    "    - 디버그 실행 시 Ctrl + Shift + Alt + Enter(==플레이 버튼 옆 디버그 셀 클릭)"
   ]
  },
  {
   "cell_type": "code",
   "execution_count": 25,
   "metadata": {},
   "outputs": [],
   "source": [
    "#디버깅 후 코드 셀 재실행\n",
    "def add(x, y):\n",
    "    res = int(x) + int(y)\n",
    "    return res"
   ]
  },
  {
   "cell_type": "code",
   "execution_count": null,
   "metadata": {},
   "outputs": [],
   "source": [
    "a, b = input('두 수를 입력 > ').split(' ')\n",
    "result = add(a, b)\n",
    "print(f'더하기 결과는 {result}입니다.')"
   ]
  }
 ],
 "metadata": {
  "kernelspec": {
   "display_name": "Python 3",
   "language": "python",
   "name": "python3"
  },
  "language_info": {
   "codemirror_mode": {
    "name": "ipython",
    "version": 3
   },
   "file_extension": ".py",
   "mimetype": "text/x-python",
   "name": "python",
   "nbconvert_exporter": "python",
   "pygments_lexer": "ipython3",
   "version": "3.12.2"
  }
 },
 "nbformat": 4,
 "nbformat_minor": 2
}
