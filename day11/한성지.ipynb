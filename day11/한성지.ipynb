{
 "cells": [
  {
   "cell_type": "markdown",
   "metadata": {},
   "source": [
    "### 1번 문제"
   ]
  },
  {
   "cell_type": "code",
   "execution_count": 36,
   "metadata": {},
   "outputs": [
    {
     "name": "stdout",
     "output_type": "stream",
     "text": [
      "여성\n"
     ]
    }
   ],
   "source": [
    "ssn = input('주민등록번호 입력 > ')\n",
    "if ssn[7] == '1' or ssn[7] == '3' or ssn[7] == '5':\n",
    "    print('남성')\n",
    "elif ssn[7] == '2' or ssn[7] == '4' or ssn[7] == '6':\n",
    "    print('여성')"
   ]
  },
  {
   "cell_type": "markdown",
   "metadata": {},
   "source": [
    "### 2번 문제"
   ]
  },
  {
   "cell_type": "code",
   "execution_count": 35,
   "metadata": {},
   "outputs": [
    {
     "name": "stdout",
     "output_type": "stream",
     "text": [
      "오늘은 일요일입니다.\n"
     ]
    }
   ],
   "source": [
    "weekday = input('요일 영어명 입력(MON, TUE, WED, TUR, FRI ,SAT ,SUN) > ')\n",
    "\n",
    "if weekday == 'MON':\n",
    "    print('오늘은 월요일입니다.')\n",
    "\n",
    "elif weekday == 'TUE':\n",
    "    print('오늘은 화요일입니다.')\n",
    "\n",
    "elif weekday == 'WED':\n",
    "    print('오늘은 수요일입니다.')\n",
    "\n",
    "elif weekday == 'TUR':\n",
    "    print('오늘은 목요일입니다.')\n",
    "\n",
    "elif weekday == 'FRI':\n",
    "    print('오늘은 금요일입니다.')\n",
    "\n",
    "elif weekday == 'SAT':\n",
    "    print('오늘은 토요일입니다.')\n",
    "\n",
    "elif weekday == 'SUN':\n",
    "    print('오늘은 일요일입니다.')\n",
    "\n",
    "else:\n",
    "    print('요일을 영어명으로 입력하세요.')"
   ]
  },
  {
   "cell_type": "markdown",
   "metadata": {},
   "source": [
    "### 3번 문제"
   ]
  },
  {
   "cell_type": "code",
   "execution_count": 33,
   "metadata": {},
   "outputs": [
    {
     "name": "stdout",
     "output_type": "stream",
     "text": [
      "입장 불가\n"
     ]
    }
   ],
   "source": [
    "age = int(input('나이 입력 > '))\n",
    "\n",
    "if age < 19:\n",
    "    print('입장 불가')\n",
    "\n",
    "else:\n",
    "    print('입장 가능')"
   ]
  },
  {
   "cell_type": "markdown",
   "metadata": {},
   "source": [
    "### 4번 문제"
   ]
  },
  {
   "cell_type": "code",
   "execution_count": 8,
   "metadata": {},
   "outputs": [],
   "source": [
    "f = open('./result.txt', mode='w', encoding='utf-8')\n",
    "\n",
    "\n",
    "result=1\n",
    "i = 1\n",
    "while True:\n",
    "    if i == 1001:\n",
    "        break\n",
    "    if i % 3 == 0 or i % 5 == 0:\n",
    "      result = i\n",
    "      f.write(str(result) + '\\n')\n",
    "    \n",
    "    i += 1\n",
    "\n",
    "f. close()"
   ]
  },
  {
   "cell_type": "markdown",
   "metadata": {},
   "source": [
    "### 5번 문제"
   ]
  },
  {
   "cell_type": "code",
   "execution_count": 37,
   "metadata": {},
   "outputs": [
    {
     "name": "stdout",
     "output_type": "stream",
     "text": [
      "2024\\03%07 09**56//39\n"
     ]
    }
   ],
   "source": [
    "from datetime import datetime\n",
    "\n",
    "print(f'{datetime.now().year}\\\\{datetime.now().month:02d}%{datetime.now().day:02d} {datetime.now().hour:02d}**{datetime.now().minute:02d}//{datetime.now().second:02d}')"
   ]
  }
 ],
 "metadata": {
  "kernelspec": {
   "display_name": "Python 3",
   "language": "python",
   "name": "python3"
  },
  "language_info": {
   "codemirror_mode": {
    "name": "ipython",
    "version": 3
   },
   "file_extension": ".py",
   "mimetype": "text/x-python",
   "name": "python",
   "nbconvert_exporter": "python",
   "pygments_lexer": "ipython3",
   "version": "3.12.2"
  }
 },
 "nbformat": 4,
 "nbformat_minor": 2
}
